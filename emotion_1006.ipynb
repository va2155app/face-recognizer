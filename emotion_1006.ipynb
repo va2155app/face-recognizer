{
 "cells": [
  {
   "cell_type": "code",
   "execution_count": 1,
   "metadata": {},
   "outputs": [
    {
     "name": "stderr",
     "output_type": "stream",
     "text": [
      "Using TensorFlow backend.\n"
     ]
    }
   ],
   "source": [
    "#coding=utf-8\n",
    "#表情識別\n",
    "import cv2\n",
    "from keras.models import load_model\n",
    "import numpy as np\n",
    "import datetime\n",
    "\n"
   ]
  },
  {
   "cell_type": "code",
   "execution_count": 3,
   "metadata": {},
   "outputs": [
    {
     "data": {
      "text/plain": [
       "['D:\\\\Users\\\\va215\\\\anaconda3\\\\envs\\\\keras_tensorflow_gpu\\\\lib\\\\site-packages\\\\cv2']"
      ]
     },
     "execution_count": 3,
     "metadata": {},
     "output_type": "execute_result"
    }
   ],
   "source": [
    "cv2.__path__"
   ]
  },
  {
   "cell_type": "markdown",
   "metadata": {},
   "source": [
    "### 圖片表情判別"
   ]
  },
  {
   "cell_type": "code",
   "execution_count": 4,
   "metadata": {},
   "outputs": [
    {
     "name": "stdout",
     "output_type": "stream",
     "text": [
      "WARNING:tensorflow:Error in loading the saved optimizer state. As a result, your model is starting with a freshly initialized optimizer.\n",
      "0:00:00.507694\n"
     ]
    },
    {
     "ename": "error",
     "evalue": "OpenCV(4.0.1) C:\\ci\\opencv-suite_1573470242804\\work\\modules\\objdetect\\src\\cascadedetect.cpp:1658: error: (-215:Assertion failed) !empty() in function 'cv::CascadeClassifier::detectMultiScale'\n",
     "output_type": "error",
     "traceback": [
      "\u001b[1;31m---------------------------------------------------------------------------\u001b[0m",
      "\u001b[1;31merror\u001b[0m                                     Traceback (most recent call last)",
      "\u001b[1;32m<ipython-input-4-4bda1c61e976>\u001b[0m in \u001b[0;36m<module>\u001b[1;34m\u001b[0m\n\u001b[0;32m     21\u001b[0m \u001b[1;33m\u001b[0m\u001b[0m\n\u001b[0;32m     22\u001b[0m \u001b[0mgray\u001b[0m \u001b[1;33m=\u001b[0m \u001b[0mcv2\u001b[0m\u001b[1;33m.\u001b[0m\u001b[0mcvtColor\u001b[0m\u001b[1;33m(\u001b[0m\u001b[0mimg\u001b[0m\u001b[1;33m,\u001b[0m \u001b[0mcv2\u001b[0m\u001b[1;33m.\u001b[0m\u001b[0mCOLOR_BGR2GRAY\u001b[0m\u001b[1;33m)\u001b[0m\u001b[1;33m\u001b[0m\u001b[1;33m\u001b[0m\u001b[0m\n\u001b[1;32m---> 23\u001b[1;33m faces = face_classifier.detectMultiScale(\n\u001b[0m\u001b[0;32m     24\u001b[0m     gray, scaleFactor=1.2, minNeighbors=3, minSize=(40, 40))\n\u001b[0;32m     25\u001b[0m \u001b[0mcolor\u001b[0m \u001b[1;33m=\u001b[0m \u001b[1;33m(\u001b[0m\u001b[1;36m255\u001b[0m\u001b[1;33m,\u001b[0m \u001b[1;36m0\u001b[0m\u001b[1;33m,\u001b[0m \u001b[1;36m0\u001b[0m\u001b[1;33m)\u001b[0m\u001b[1;33m\u001b[0m\u001b[1;33m\u001b[0m\u001b[0m\n",
      "\u001b[1;31merror\u001b[0m: OpenCV(4.0.1) C:\\ci\\opencv-suite_1573470242804\\work\\modules\\objdetect\\src\\cascadedetect.cpp:1658: error: (-215:Assertion failed) !empty() in function 'cv::CascadeClassifier::detectMultiScale'\n"
     ]
    }
   ],
   "source": [
    "\n",
    "startTime = datetime.datetime.now()\n",
    "emotion_classifier = load_model(\n",
    "    './simple_CNN.530-0.65.hdf5')\n",
    "endTime = datetime.datetime.now()\n",
    "print(endTime - startTime)\n",
    "\n",
    "emotion_labels = {\n",
    "    0: 'angry',\n",
    "    1: 'disgust',\n",
    "    2: 'fear',\n",
    "    3: 'happy',\n",
    "    4: 'sad',\n",
    "    5: 'surprise',\n",
    "    6: 'calm'\n",
    "}\n",
    "\n",
    "img = cv2.imread(\"./unnamed.jpg\")\n",
    "face_classifier = cv2.CascadeClassifier(\n",
    "    r\"D:\\Users\\va215\\anaconda3\\envs\\face_recognizer_py36\\Lib\\site-packages\\cv2\\data\\haarcascade_frontalface_default.xml\"\n",
    ")\n",
    "\n",
    "gray = cv2.cvtColor(img, cv2.COLOR_BGR2GRAY)\n",
    "faces = face_classifier.detectMultiScale(\n",
    "    gray, scaleFactor=1.2, minNeighbors=3, minSize=(40, 40))\n",
    "color = (255, 0, 0)\n",
    "font = cv2.FONT_HERSHEY_SIMPLEX  # 定義字體\n",
    "for (x, y, w, h) in faces: # 矩形框位置\n",
    "    gray_face = gray[(y):(y + h), (x):(x + w)]\n",
    "    gray_face = cv2.resize(gray_face, (48, 48))\n",
    "    gray_face = gray_face / 255.0\n",
    "    gray_face = np.expand_dims(gray_face, 0)\n",
    "    gray_face = np.expand_dims(gray_face, -1)\n",
    "    emotion_label_arg = np.argmax(emotion_classifier.predict(gray_face))\n",
    "    emotion = emotion_labels[emotion_label_arg]\n",
    "    #print(emotion)\n",
    "    cv2.rectangle(img, (x + 10, y + 10), (x + h - 10, y + w - 10),\n",
    "                  color, 2)\n",
    "    img = img.copy()  # 备份操作\n",
    "    img2 = cv2.putText(img, emotion, (int(x + 60 ), int(y)), font, 0.5, color, 1)\n",
    "                  # 圖像，文字内容， 座標 ，字體，大小，顏色，字體厚度\n",
    "\n",
    "cv2.imshow(\"Image\", img2)\n",
    "cv2.waitKey(0)\n",
    "cv2.destroyAllWindows()"
   ]
  },
  {
   "cell_type": "code",
   "execution_count": null,
   "metadata": {},
   "outputs": [],
   "source": []
  }
 ],
 "metadata": {
  "kernelspec": {
   "display_name": "Python 3",
   "language": "python",
   "name": "python3"
  },
  "language_info": {
   "codemirror_mode": {
    "name": "ipython",
    "version": 3
   },
   "file_extension": ".py",
   "mimetype": "text/x-python",
   "name": "python",
   "nbconvert_exporter": "python",
   "pygments_lexer": "ipython3",
   "version": "3.6.12"
  }
 },
 "nbformat": 4,
 "nbformat_minor": 4
}
