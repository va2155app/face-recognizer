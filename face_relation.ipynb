{
 "cells": [
  {
   "cell_type": "code",
   "execution_count": 3,
   "metadata": {},
   "outputs": [],
   "source": [
    "import sys,os,dlib,glob,numpy,skimage\n",
    "#from skimage import io\n",
    "import cv2\n",
    "import imutils"
   ]
  },
  {
   "cell_type": "code",
   "execution_count": 4,
   "metadata": {},
   "outputs": [],
   "source": [
    "\n",
    "#根據shape_predictor方法載入68個特徵點模型，此方法為人臉表情識別的偵測器\n",
    "predictor = dlib.shape_predictor( 'shape_predictor_68_face_landmarks.dat')"
   ]
  },
  {
   "cell_type": "code",
   "execution_count": 8,
   "metadata": {},
   "outputs": [],
   "source": [
    "#參考網頁 https://www.tpisoftware.com/tpu/articleDetails/950\n",
    "\n",
    "#選擇第一隻攝影機\n",
    "cap = cv2.VideoCapture( 0)\n",
    "#調整預設影像大小，預設值很大，很吃效能\n",
    "cap.set(cv2. CAP_PROP_FRAME_WIDTH, 650)\n",
    "cap.set(cv2. CAP_PROP_FRAME_HEIGHT, 500)\n",
    "\n",
    "#取得預設的臉部偵測器\n",
    "detector = dlib.get_frontal_face_detector()\n",
    "\n",
    "\n",
    "  #當攝影機打開時，對每個frame進行偵測\n",
    "while(cap.isOpened()):\n",
    "    \n",
    "    #讀出frame資訊\n",
    "    ret, frame = cap.read()\n",
    "    gray = cv2.cvtColor(frame, cv2.COLOR_BGR2GRAY)\n",
    "\n",
    "    #偵測人臉\n",
    "    face_rects, scores, idx = detector.run(gray, 0)\n",
    "\n",
    "#取出偵測的結果\n",
    "    for i, d in enumerate(face_rects):\n",
    "\n",
    "\n",
    "        x1 = d.left()\n",
    "        y1 = d.top()\n",
    "        x2 = d.right()\n",
    "        y2 = d.bottom()\n",
    "        text = \" %2.2f ( %d )\" % (scores[i], idx[i])\n",
    "\n",
    "          #繪製出偵測人臉的矩形範圍\n",
    "        cv2.rectangle(frame, (x1+1, y1+1), (x2+1, y2+1), ( 0, 255, 0), 4, cv2. LINE_AA)\n",
    "\n",
    "          #標上人臉偵測分數與人臉方向子偵測器編號\n",
    "        cv2.putText(frame, text, (x1, y1), cv2. FONT_HERSHEY_DUPLEX,\n",
    "        0.7, ( 255, 255, 255), 1, cv2. LINE_AA)\n",
    "\n",
    "      #給68特徵點辨識取得一個轉換顏色的frame\n",
    "        landmarks_frame = cv2.cvtColor(frame, cv2. COLOR_BGR2RGB)\n",
    "\n",
    "      #找出特徵點位置\n",
    "        shape = predictor(landmarks_frame, d)\n",
    "\n",
    "  #繪製68個特徵點\n",
    "        for i in range(68):       \n",
    "            cv2.circle(frame,(shape.part(i).x,shape.part(i).y), 1,( 0, 200, 0), 2)\n",
    "            cv2.putText(frame, str(i),(shape.part(i).x,shape.part(i).y),cv2. FONT_HERSHEY_COMPLEX, 0.5,( 255, 0, 0), 2)\n",
    "    \n",
    "  #輸出到畫面\n",
    "    frame = cv2.flip(frame, flipCode=1) \n",
    "    cv2.imshow( \"Face Detection\", frame)\n",
    "\n",
    "#如果按下ESC键，就退出\n",
    "    if cv2.waitKey(10) == 27:\n",
    "        break\n",
    "        \n",
    "        \n",
    "#釋放記憶體\n",
    "cap.release()\n",
    "#關閉所有視窗\n",
    "cv2.destroyAllWindows()"
   ]
  },
  {
   "cell_type": "code",
   "execution_count": 15,
   "metadata": {},
   "outputs": [
    {
     "data": {
      "text/plain": [
       "209"
      ]
     },
     "execution_count": 15,
     "metadata": {},
     "output_type": "execute_result"
    }
   ],
   "source": [
    "x1"
   ]
  },
  {
   "cell_type": "code",
   "execution_count": null,
   "metadata": {},
   "outputs": [],
   "source": []
  }
 ],
 "metadata": {
  "kernelspec": {
   "display_name": "Python 3",
   "language": "python",
   "name": "python3"
  },
  "language_info": {
   "codemirror_mode": {
    "name": "ipython",
    "version": 3
   },
   "file_extension": ".py",
   "mimetype": "text/x-python",
   "name": "python",
   "nbconvert_exporter": "python",
   "pygments_lexer": "ipython3",
   "version": "3.6.12"
  }
 },
 "nbformat": 4,
 "nbformat_minor": 4
}
