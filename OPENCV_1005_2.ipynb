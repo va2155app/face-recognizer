{
 "cells": [
  {
   "cell_type": "code",
   "execution_count": 2,
   "metadata": {},
   "outputs": [],
   "source": [
    "import cv2"
   ]
  },
  {
   "cell_type": "markdown",
   "metadata": {},
   "source": [
    "###  圖片 人臉檢測OPENCV"
   ]
  },
  {
   "cell_type": "code",
   "execution_count": 4,
   "metadata": {},
   "outputs": [],
   "source": [
    "# 載入分類器\n",
    "xml_path =r\"D:\\Users\\va215\\anaconda3\\envs\\face_recognizer_py36\\Lib\\site-packages\\cv2\\data\\haarcascade_frontalface_default.xml\"\n",
    "face_cascade = cv2.CascadeClassifier(xml_path)\n",
    "# 讀取圖片\n",
    "img = cv2.imread('a.JPG')\n",
    "# 轉成灰階圖片\n",
    "gray = cv2.cvtColor(img, cv2.COLOR_BGR2GRAY)\n",
    "# 偵測臉部\n",
    "faces = face_cascade.detectMultiScale(gray)\n",
    "# 繪製人臉部份的方框\n",
    "for (x, y, w, h) in faces:\n",
    "    cv2.rectangle(img, (x, y), (x + w, y + h), (0, 255, 0), 2)\n",
    "#(0, 255, 0)欄位可以變更方框顏色(Blue,Green,Red)\n",
    "# 顯示成果\n",
    "cv2.namedWindow('img', cv2.WINDOW_NORMAL)  #正常視窗大小\n",
    "cv2.imshow('img', img)                     #秀出圖片\n",
    "cv2.imwrite( \"result.jpg\", img )           #保存圖片\n",
    "cv2.waitKey(0)                             #等待按下任一按鍵\n",
    "cv2.destroyAllWindows()                    #關閉視窗"
   ]
  },
  {
   "cell_type": "markdown",
   "metadata": {},
   "source": [
    "### 影像人臉檢測"
   ]
  },
  {
   "cell_type": "code",
   "execution_count": 5,
   "metadata": {},
   "outputs": [],
   "source": [
    "# 從視訊盡頭擷取影片\n",
    "cap = cv2.VideoCapture(0)\n",
    "\n",
    "\n",
    "while True:\n",
    "    # Read the frame\n",
    "    _, img = cap.read()\n",
    "# 轉成灰階\n",
    "    gray = cv2.cvtColor(img, cv2.COLOR_BGR2GRAY)\n",
    "# 偵測臉部\n",
    "    faces = face_cascade.detectMultiScale(gray, 1.1, 4)\n",
    "# 繪製人臉部份的方框\n",
    "    for (x, y, w, h) in faces:\n",
    "        cv2.rectangle(img, (x, y), (x+w, y+h), (0, 255, 0), 2)\n",
    "# 顯示成果\n",
    "    cv2.namedWindow('img', cv2.WINDOW_NORMAL)  #正常視窗大小\n",
    "    cv2.imshow('img', img)                     #秀出圖片\n",
    "# Stop if escape key is pressed\n",
    "    k = cv2.waitKey(30) & 0xff\n",
    "    if k==27:\n",
    "        break\n",
    "        \n",
    "# Release the VideoCapture object\n",
    "cap.release()\n",
    "cv2.destroyAllWindows()"
   ]
  },
  {
   "cell_type": "code",
   "execution_count": null,
   "metadata": {},
   "outputs": [],
   "source": []
  }
 ],
 "metadata": {
  "kernelspec": {
   "display_name": "Python 3",
   "language": "python",
   "name": "python3"
  },
  "language_info": {
   "codemirror_mode": {
    "name": "ipython",
    "version": 3
   },
   "file_extension": ".py",
   "mimetype": "text/x-python",
   "name": "python",
   "nbconvert_exporter": "python",
   "pygments_lexer": "ipython3",
   "version": "3.6.12"
  }
 },
 "nbformat": 4,
 "nbformat_minor": 4
}
